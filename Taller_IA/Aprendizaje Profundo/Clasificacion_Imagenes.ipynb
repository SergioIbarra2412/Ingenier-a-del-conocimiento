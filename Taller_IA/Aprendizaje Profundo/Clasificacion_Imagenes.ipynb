{
  "nbformat": 4,
  "nbformat_minor": 0,
  "metadata": {
    "colab": {
      "provenance": []
    },
    "kernelspec": {
      "name": "python3",
      "display_name": "Python 3"
    },
    "language_info": {
      "name": "python"
    }
  },
  "cells": [
    {
      "cell_type": "code",
      "source": [
        "import keras\n",
        "from keras.models import Sequential\n",
        "from keras.layers import Dense, Dropout, Flatten\n",
        "from keras.layers import Conv2D, MaxPooling2D\n",
        "from keras.utils import to_categorical\n",
        "from keras.preprocessing import image\n",
        "import numpy as np\n",
        "import pandas as pd\n",
        "import matplotlib.pyplot as plt\n",
        "from sklearn.model_selection import train_test_split\n",
        "from keras.utils import to_categorical\n",
        "\n",
        "# Montar Google Drive\n",
        "from google.colab import drive\n",
        "drive.mount('/content/drive')\n",
        "\n",
        "(x_train, y_train), (x_test, y_test) = keras.datasets.cifar10.load_data()\n",
        "\n",
        "x_train.shape,x_test.shape"
      ],
      "metadata": {
        "colab": {
          "base_uri": "https://localhost:8080/"
        },
        "id": "TZMF2BYiasZP",
        "outputId": "4e0f7e08-321e-4232-bc52-47f40d2e8b4c"
      },
      "execution_count": 2,
      "outputs": [
        {
          "output_type": "stream",
          "name": "stdout",
          "text": [
            "Mounted at /content/drive\n",
            "Downloading data from https://www.cs.toronto.edu/~kriz/cifar-10-python.tar.gz\n",
            "170498071/170498071 [==============================] - 2s 0us/step\n"
          ]
        },
        {
          "output_type": "execute_result",
          "data": {
            "text/plain": [
              "((50000, 32, 32, 3), (10000, 32, 32, 3))"
            ]
          },
          "metadata": {},
          "execution_count": 2
        }
      ]
    },
    {
      "cell_type": "code",
      "source": [
        "# Normalización\n",
        "x_train = x_train/255.0\n",
        "x_test = x_test/255.0\n",
        "\n",
        "# Promediar las tres bandas RGB para obtener una imagen es tonos de gris\n",
        "x_train = np.mean(x_train, axis=3)\n",
        "x_test = np.mean(x_test, axis=3)\n",
        "x_train.shape,x_test.shape"
      ],
      "metadata": {
        "id": "-uzvSSv2rWpA",
        "colab": {
          "base_uri": "https://localhost:8080/"
        },
        "outputId": "cf195ac5-6af8-4e43-c517-2972314f3485"
      },
      "execution_count": 3,
      "outputs": [
        {
          "output_type": "execute_result",
          "data": {
            "text/plain": [
              "((50000, 32, 32), (10000, 32, 32))"
            ]
          },
          "metadata": {},
          "execution_count": 3
        }
      ]
    },
    {
      "cell_type": "code",
      "source": [
        "# Definir la estructura del modelo\n",
        "model = Sequential()\n",
        "model.add(Conv2D(32, kernel_size=(3, 3),activation='relu',input_shape=(32,32,1)))\n",
        "model.add(Conv2D(64, (3, 3), activation='relu'))\n",
        "model.add(MaxPooling2D(pool_size=(2, 2)))\n",
        "model.add(Dropout(0.25))\n",
        "model.add(Flatten())\n",
        "model.add(Dense(128, activation='relu'))\n",
        "model.add(Dropout(0.5))\n",
        "model.add(Dense(10, activation='softmax'))\n",
        "\n",
        "# Compilar el modelo\n",
        "model.compile(loss='sparse_categorical_crossentropy',optimizer='Adam',metrics=['accuracy'])"
      ],
      "metadata": {
        "id": "kRsckmGxu1g6"
      },
      "execution_count": 5,
      "outputs": []
    },
    {
      "cell_type": "code",
      "source": [
        "# Entrenar el modelo\n",
        "model.fit(x_train, y_train, epochs=10, validation_data=(x_test, y_test))"
      ],
      "metadata": {
        "colab": {
          "base_uri": "https://localhost:8080/"
        },
        "id": "eryatQf3vzF3",
        "outputId": "022372c3-eeb8-4329-a249-b6d28dd762bc"
      },
      "execution_count": 6,
      "outputs": [
        {
          "output_type": "stream",
          "name": "stdout",
          "text": [
            "Epoch 1/10\n",
            "1563/1563 [==============================] - 201s 128ms/step - loss: 1.7540 - accuracy: 0.3652 - val_loss: 1.3796 - val_accuracy: 0.5173\n",
            "Epoch 2/10\n",
            "1563/1563 [==============================] - 204s 130ms/step - loss: 1.4321 - accuracy: 0.4891 - val_loss: 1.2319 - val_accuracy: 0.5707\n",
            "Epoch 3/10\n",
            "1563/1563 [==============================] - 213s 136ms/step - loss: 1.3133 - accuracy: 0.5340 - val_loss: 1.1326 - val_accuracy: 0.6057\n",
            "Epoch 4/10\n",
            "1563/1563 [==============================] - 193s 123ms/step - loss: 1.2373 - accuracy: 0.5630 - val_loss: 1.1011 - val_accuracy: 0.6180\n",
            "Epoch 5/10\n",
            "1563/1563 [==============================] - 191s 123ms/step - loss: 1.1725 - accuracy: 0.5900 - val_loss: 1.0570 - val_accuracy: 0.6390\n",
            "Epoch 6/10\n",
            "1563/1563 [==============================] - 190s 122ms/step - loss: 1.1206 - accuracy: 0.6076 - val_loss: 1.0355 - val_accuracy: 0.6402\n",
            "Epoch 7/10\n",
            "1563/1563 [==============================] - 188s 120ms/step - loss: 1.0808 - accuracy: 0.6182 - val_loss: 1.0247 - val_accuracy: 0.6454\n",
            "Epoch 8/10\n",
            "1563/1563 [==============================] - 192s 123ms/step - loss: 1.0345 - accuracy: 0.6352 - val_loss: 1.0041 - val_accuracy: 0.6486\n",
            "Epoch 9/10\n",
            "1563/1563 [==============================] - 200s 128ms/step - loss: 1.0083 - accuracy: 0.6443 - val_loss: 1.0111 - val_accuracy: 0.6543\n",
            "Epoch 10/10\n",
            "1563/1563 [==============================] - 194s 124ms/step - loss: 0.9661 - accuracy: 0.6567 - val_loss: 0.9733 - val_accuracy: 0.6630\n"
          ]
        },
        {
          "output_type": "execute_result",
          "data": {
            "text/plain": [
              "<keras.src.callbacks.History at 0x7cac56e1ee90>"
            ]
          },
          "metadata": {},
          "execution_count": 6
        }
      ]
    },
    {
      "cell_type": "code",
      "source": [
        "# Hacer predicciones\n",
        "df = pd.read_csv(\"/content/drive/MyDrive/Taller_IA/datos_2.csv\")\n",
        "test = df.values[:,1]\n",
        "test = test.reshape((1,32,32))/255.0\n",
        "print(test)\n",
        "prediction = model.predict(test)\n",
        "print(prediction)\n",
        "print(prediction.argmax(axis=1))\n"
      ],
      "metadata": {
        "colab": {
          "base_uri": "https://localhost:8080/"
        },
        "id": "68oKVzg1wd9F",
        "outputId": "32427aa2-a692-4a7a-f60b-cdfa0772ed64"
      },
      "execution_count": 7,
      "outputs": [
        {
          "output_type": "stream",
          "name": "stdout",
          "text": [
            "[[[0.5372549  0.54509804 0.54509804 ... 0.60392157 0.60392157 0.60392157]\n",
            "  [0.5372549  0.54117647 0.54509804 ... 0.6        0.6        0.60392157]\n",
            "  [0.5372549  0.54117647 0.54901961 ... 0.6        0.60392157 0.60392157]\n",
            "  ...\n",
            "  [0.53333333 0.54117647 0.54509804 ... 0.58431373 0.58823529 0.58823529]\n",
            "  [0.53333333 0.5372549  0.54509804 ... 0.58431373 0.58431373 0.58431373]\n",
            "  [0.53333333 0.5372549  0.54117647 ... 0.58431373 0.58431373 0.58431373]]]\n",
            "1/1 [==============================] - 0s 195ms/step\n",
            "[[0.22876774 0.00820826 0.19814475 0.10966023 0.13706283 0.02308405\n",
            "  0.02426015 0.00757392 0.25406325 0.00917487]]\n",
            "[8]\n"
          ]
        }
      ]
    },
    {
      "cell_type": "markdown",
      "source": [],
      "metadata": {
        "id": "naduwLMvPKXJ"
      }
    }
  ]
}